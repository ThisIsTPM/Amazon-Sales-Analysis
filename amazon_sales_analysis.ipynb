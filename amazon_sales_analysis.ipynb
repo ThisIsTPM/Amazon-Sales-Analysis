{
 "cells": [
  {
   "cell_type": "markdown",
   "id": "bf31c170-3b62-4f0b-9133-9f45eb012286",
   "metadata": {},
   "source": [
    "# Amazon Sales Report"
   ]
  },
  {
   "cell_type": "code",
   "execution_count": 1,
   "id": "66cd25d0-c5ed-4a75-881c-4d3576598e33",
   "metadata": {},
   "outputs": [],
   "source": [
    "import numpy as np\n",
    "import pandas as pd\n",
    "import matplotlib.pyplot as plt\n",
    "import seaborn as sns"
   ]
  },
  {
   "cell_type": "code",
   "execution_count": 2,
   "id": "5b29c8ae-1977-4e9a-aef8-980b44aa61bd",
   "metadata": {},
   "outputs": [],
   "source": [
    "df = pd.read_csv('amazon_sales.csv')"
   ]
  },
  {
   "cell_type": "code",
   "execution_count": 28,
   "id": "8be71807-b838-417e-be01-79d5579bd597",
   "metadata": {},
   "outputs": [
    {
     "data": {
      "text/plain": [
       "(37514, 19)"
      ]
     },
     "execution_count": 28,
     "metadata": {},
     "output_type": "execute_result"
    }
   ],
   "source": [
    "df.shape"
   ]
  },
  {
   "cell_type": "code",
   "execution_count": 31,
   "id": "9450f09b-4794-4434-9cad-58f6002a69b8",
   "metadata": {},
   "outputs": [
    {
     "data": {
      "text/html": [
       "<div>\n",
       "<style scoped>\n",
       "    .dataframe tbody tr th:only-of-type {\n",
       "        vertical-align: middle;\n",
       "    }\n",
       "\n",
       "    .dataframe tbody tr th {\n",
       "        vertical-align: top;\n",
       "    }\n",
       "\n",
       "    .dataframe thead th {\n",
       "        text-align: right;\n",
       "    }\n",
       "</style>\n",
       "<table border=\"1\" class=\"dataframe\">\n",
       "  <thead>\n",
       "    <tr style=\"text-align: right;\">\n",
       "      <th></th>\n",
       "      <th>Index</th>\n",
       "      <th>Order ID</th>\n",
       "      <th>Date</th>\n",
       "      <th>Status</th>\n",
       "      <th>Fulfilment</th>\n",
       "      <th>Sales Channel</th>\n",
       "      <th>Ship-Service-Level</th>\n",
       "      <th>Category</th>\n",
       "      <th>Size</th>\n",
       "      <th>Courier Status</th>\n",
       "      <th>Quantity</th>\n",
       "      <th>Currency</th>\n",
       "      <th>Amount</th>\n",
       "      <th>Ship-City</th>\n",
       "      <th>Ship-State</th>\n",
       "      <th>Ship-Postal-Code</th>\n",
       "      <th>Ship-Country</th>\n",
       "      <th>B2B</th>\n",
       "      <th>Fulfilled-by</th>\n",
       "    </tr>\n",
       "  </thead>\n",
       "  <tbody>\n",
       "    <tr>\n",
       "      <th>0</th>\n",
       "      <td>0</td>\n",
       "      <td>405-8078784-5731545</td>\n",
       "      <td>04-30-22</td>\n",
       "      <td>Cancelled</td>\n",
       "      <td>Merchant</td>\n",
       "      <td>Amazon.in</td>\n",
       "      <td>Standard</td>\n",
       "      <td>T-shirt</td>\n",
       "      <td>S</td>\n",
       "      <td>On the Way</td>\n",
       "      <td>0</td>\n",
       "      <td>INR</td>\n",
       "      <td>647.62</td>\n",
       "      <td>MUMBAI</td>\n",
       "      <td>MAHARASHTRA</td>\n",
       "      <td>400081</td>\n",
       "      <td>IN</td>\n",
       "      <td>False</td>\n",
       "      <td>Easy Ship</td>\n",
       "    </tr>\n",
       "    <tr>\n",
       "      <th>1</th>\n",
       "      <td>1</td>\n",
       "      <td>171-9198151-1101146</td>\n",
       "      <td>04-30-22</td>\n",
       "      <td>Shipped - Delivered to Buyer</td>\n",
       "      <td>Merchant</td>\n",
       "      <td>Amazon.in</td>\n",
       "      <td>Standard</td>\n",
       "      <td>Shirt</td>\n",
       "      <td>3XL</td>\n",
       "      <td>Shipped</td>\n",
       "      <td>1</td>\n",
       "      <td>INR</td>\n",
       "      <td>406.00</td>\n",
       "      <td>BENGALURU</td>\n",
       "      <td>KARNATAKA</td>\n",
       "      <td>560085</td>\n",
       "      <td>IN</td>\n",
       "      <td>False</td>\n",
       "      <td>Easy Ship</td>\n",
       "    </tr>\n",
       "    <tr>\n",
       "      <th>3</th>\n",
       "      <td>3</td>\n",
       "      <td>403-9615377-8133951</td>\n",
       "      <td>04-30-22</td>\n",
       "      <td>Cancelled</td>\n",
       "      <td>Merchant</td>\n",
       "      <td>Amazon.in</td>\n",
       "      <td>Standard</td>\n",
       "      <td>Blazzer</td>\n",
       "      <td>L</td>\n",
       "      <td>On the Way</td>\n",
       "      <td>0</td>\n",
       "      <td>INR</td>\n",
       "      <td>753.33</td>\n",
       "      <td>PUDUCHERRY</td>\n",
       "      <td>PUDUCHERRY</td>\n",
       "      <td>605008</td>\n",
       "      <td>IN</td>\n",
       "      <td>False</td>\n",
       "      <td>Easy Ship</td>\n",
       "    </tr>\n",
       "    <tr>\n",
       "      <th>7</th>\n",
       "      <td>7</td>\n",
       "      <td>406-7807733-3785945</td>\n",
       "      <td>04-30-22</td>\n",
       "      <td>Shipped - Delivered to Buyer</td>\n",
       "      <td>Merchant</td>\n",
       "      <td>Amazon.in</td>\n",
       "      <td>Standard</td>\n",
       "      <td>Shirt</td>\n",
       "      <td>S</td>\n",
       "      <td>Shipped</td>\n",
       "      <td>1</td>\n",
       "      <td>INR</td>\n",
       "      <td>399.00</td>\n",
       "      <td>HYDERABAD</td>\n",
       "      <td>TELANGANA</td>\n",
       "      <td>500032</td>\n",
       "      <td>IN</td>\n",
       "      <td>False</td>\n",
       "      <td>Easy Ship</td>\n",
       "    </tr>\n",
       "    <tr>\n",
       "      <th>12</th>\n",
       "      <td>12</td>\n",
       "      <td>405-5513694-8146768</td>\n",
       "      <td>04-30-22</td>\n",
       "      <td>Shipped - Delivered to Buyer</td>\n",
       "      <td>Merchant</td>\n",
       "      <td>Amazon.in</td>\n",
       "      <td>Standard</td>\n",
       "      <td>Shirt</td>\n",
       "      <td>XS</td>\n",
       "      <td>Shipped</td>\n",
       "      <td>1</td>\n",
       "      <td>INR</td>\n",
       "      <td>399.00</td>\n",
       "      <td>Amravati.</td>\n",
       "      <td>MAHARASHTRA</td>\n",
       "      <td>444606</td>\n",
       "      <td>IN</td>\n",
       "      <td>False</td>\n",
       "      <td>Easy Ship</td>\n",
       "    </tr>\n",
       "  </tbody>\n",
       "</table>\n",
       "</div>"
      ],
      "text/plain": [
       "    Index             Order ID      Date                        Status  \\\n",
       "0       0  405-8078784-5731545  04-30-22                     Cancelled   \n",
       "1       1  171-9198151-1101146  04-30-22  Shipped - Delivered to Buyer   \n",
       "3       3  403-9615377-8133951  04-30-22                     Cancelled   \n",
       "7       7  406-7807733-3785945  04-30-22  Shipped - Delivered to Buyer   \n",
       "12     12  405-5513694-8146768  04-30-22  Shipped - Delivered to Buyer   \n",
       "\n",
       "   Fulfilment Sales Channel Ship-Service-Level Category Size Courier Status  \\\n",
       "0    Merchant     Amazon.in           Standard  T-shirt    S     On the Way   \n",
       "1    Merchant     Amazon.in           Standard    Shirt  3XL        Shipped   \n",
       "3    Merchant     Amazon.in           Standard  Blazzer    L     On the Way   \n",
       "7    Merchant     Amazon.in           Standard    Shirt    S        Shipped   \n",
       "12   Merchant     Amazon.in           Standard    Shirt   XS        Shipped   \n",
       "\n",
       "    Quantity Currency  Amount   Ship-City   Ship-State  Ship-Postal-Code  \\\n",
       "0          0      INR  647.62      MUMBAI  MAHARASHTRA            400081   \n",
       "1          1      INR  406.00   BENGALURU    KARNATAKA            560085   \n",
       "3          0      INR  753.33  PUDUCHERRY   PUDUCHERRY            605008   \n",
       "7          1      INR  399.00   HYDERABAD    TELANGANA            500032   \n",
       "12         1      INR  399.00   Amravati.  MAHARASHTRA            444606   \n",
       "\n",
       "   Ship-Country    B2B Fulfilled-by  \n",
       "0            IN  False    Easy Ship  \n",
       "1            IN  False    Easy Ship  \n",
       "3            IN  False    Easy Ship  \n",
       "7            IN  False    Easy Ship  \n",
       "12           IN  False    Easy Ship  "
      ]
     },
     "execution_count": 31,
     "metadata": {},
     "output_type": "execute_result"
    }
   ],
   "source": [
    "df.head()\n"
   ]
  },
  {
   "cell_type": "code",
   "execution_count": 5,
   "id": "a6891871-a20b-4026-8932-6c6c0b672b52",
   "metadata": {},
   "outputs": [
    {
     "name": "stdout",
     "output_type": "stream",
     "text": [
      "<class 'pandas.core.frame.DataFrame'>\n",
      "RangeIndex: 128976 entries, 0 to 128975\n",
      "Data columns (total 19 columns):\n",
      " #   Column              Non-Null Count   Dtype  \n",
      "---  ------              --------------   -----  \n",
      " 0   Index               128976 non-null  int64  \n",
      " 1   Order ID            128976 non-null  object \n",
      " 2   Date                128976 non-null  object \n",
      " 3   Status              128976 non-null  object \n",
      " 4   Fulfilment          128976 non-null  object \n",
      " 5   Sales Channel       128976 non-null  object \n",
      " 6   Ship-Service-Level  128976 non-null  object \n",
      " 7   Category            128976 non-null  object \n",
      " 8   Size                128976 non-null  object \n",
      " 9   Courier Status      128976 non-null  object \n",
      " 10  Qty                 128976 non-null  int64  \n",
      " 11  Currency            121176 non-null  object \n",
      " 12  Amount              121176 non-null  float64\n",
      " 13  Ship-City           128941 non-null  object \n",
      " 14  Ship-State          128941 non-null  object \n",
      " 15  Ship-Postal-Code    128941 non-null  float64\n",
      " 16  Ship-Country        128941 non-null  object \n",
      " 17  B2B                 128976 non-null  bool   \n",
      " 18  Fulfilled-by        39263 non-null   object \n",
      "dtypes: bool(1), float64(2), int64(2), object(14)\n",
      "memory usage: 17.8+ MB\n"
     ]
    }
   ],
   "source": [
    "df.info()"
   ]
  },
  {
   "cell_type": "code",
   "execution_count": 6,
   "id": "045c6a10-f071-409f-a77d-911f64d5a4a5",
   "metadata": {},
   "outputs": [
    {
     "data": {
      "text/html": [
       "<div>\n",
       "<style scoped>\n",
       "    .dataframe tbody tr th:only-of-type {\n",
       "        vertical-align: middle;\n",
       "    }\n",
       "\n",
       "    .dataframe tbody tr th {\n",
       "        vertical-align: top;\n",
       "    }\n",
       "\n",
       "    .dataframe thead th {\n",
       "        text-align: right;\n",
       "    }\n",
       "</style>\n",
       "<table border=\"1\" class=\"dataframe\">\n",
       "  <thead>\n",
       "    <tr style=\"text-align: right;\">\n",
       "      <th></th>\n",
       "      <th>Index</th>\n",
       "      <th>Order ID</th>\n",
       "      <th>Date</th>\n",
       "      <th>Status</th>\n",
       "      <th>Fulfilment</th>\n",
       "      <th>Sales Channel</th>\n",
       "      <th>Ship-Service-Level</th>\n",
       "      <th>Category</th>\n",
       "      <th>Size</th>\n",
       "      <th>Courier Status</th>\n",
       "      <th>Qty</th>\n",
       "      <th>Currency</th>\n",
       "      <th>Amount</th>\n",
       "      <th>Ship-City</th>\n",
       "      <th>Ship-State</th>\n",
       "      <th>Ship-Postal-Code</th>\n",
       "      <th>Ship-Country</th>\n",
       "      <th>B2B</th>\n",
       "      <th>Fulfilled-by</th>\n",
       "    </tr>\n",
       "  </thead>\n",
       "  <tbody>\n",
       "    <tr>\n",
       "      <th>0</th>\n",
       "      <td>False</td>\n",
       "      <td>False</td>\n",
       "      <td>False</td>\n",
       "      <td>False</td>\n",
       "      <td>False</td>\n",
       "      <td>False</td>\n",
       "      <td>False</td>\n",
       "      <td>False</td>\n",
       "      <td>False</td>\n",
       "      <td>False</td>\n",
       "      <td>False</td>\n",
       "      <td>False</td>\n",
       "      <td>False</td>\n",
       "      <td>False</td>\n",
       "      <td>False</td>\n",
       "      <td>False</td>\n",
       "      <td>False</td>\n",
       "      <td>False</td>\n",
       "      <td>False</td>\n",
       "    </tr>\n",
       "    <tr>\n",
       "      <th>1</th>\n",
       "      <td>False</td>\n",
       "      <td>False</td>\n",
       "      <td>False</td>\n",
       "      <td>False</td>\n",
       "      <td>False</td>\n",
       "      <td>False</td>\n",
       "      <td>False</td>\n",
       "      <td>False</td>\n",
       "      <td>False</td>\n",
       "      <td>False</td>\n",
       "      <td>False</td>\n",
       "      <td>False</td>\n",
       "      <td>False</td>\n",
       "      <td>False</td>\n",
       "      <td>False</td>\n",
       "      <td>False</td>\n",
       "      <td>False</td>\n",
       "      <td>False</td>\n",
       "      <td>False</td>\n",
       "    </tr>\n",
       "    <tr>\n",
       "      <th>2</th>\n",
       "      <td>False</td>\n",
       "      <td>False</td>\n",
       "      <td>False</td>\n",
       "      <td>False</td>\n",
       "      <td>False</td>\n",
       "      <td>False</td>\n",
       "      <td>False</td>\n",
       "      <td>False</td>\n",
       "      <td>False</td>\n",
       "      <td>False</td>\n",
       "      <td>False</td>\n",
       "      <td>False</td>\n",
       "      <td>False</td>\n",
       "      <td>False</td>\n",
       "      <td>False</td>\n",
       "      <td>False</td>\n",
       "      <td>False</td>\n",
       "      <td>False</td>\n",
       "      <td>True</td>\n",
       "    </tr>\n",
       "    <tr>\n",
       "      <th>3</th>\n",
       "      <td>False</td>\n",
       "      <td>False</td>\n",
       "      <td>False</td>\n",
       "      <td>False</td>\n",
       "      <td>False</td>\n",
       "      <td>False</td>\n",
       "      <td>False</td>\n",
       "      <td>False</td>\n",
       "      <td>False</td>\n",
       "      <td>False</td>\n",
       "      <td>False</td>\n",
       "      <td>False</td>\n",
       "      <td>False</td>\n",
       "      <td>False</td>\n",
       "      <td>False</td>\n",
       "      <td>False</td>\n",
       "      <td>False</td>\n",
       "      <td>False</td>\n",
       "      <td>False</td>\n",
       "    </tr>\n",
       "    <tr>\n",
       "      <th>4</th>\n",
       "      <td>False</td>\n",
       "      <td>False</td>\n",
       "      <td>False</td>\n",
       "      <td>False</td>\n",
       "      <td>False</td>\n",
       "      <td>False</td>\n",
       "      <td>False</td>\n",
       "      <td>False</td>\n",
       "      <td>False</td>\n",
       "      <td>False</td>\n",
       "      <td>False</td>\n",
       "      <td>False</td>\n",
       "      <td>False</td>\n",
       "      <td>False</td>\n",
       "      <td>False</td>\n",
       "      <td>False</td>\n",
       "      <td>False</td>\n",
       "      <td>False</td>\n",
       "      <td>True</td>\n",
       "    </tr>\n",
       "    <tr>\n",
       "      <th>...</th>\n",
       "      <td>...</td>\n",
       "      <td>...</td>\n",
       "      <td>...</td>\n",
       "      <td>...</td>\n",
       "      <td>...</td>\n",
       "      <td>...</td>\n",
       "      <td>...</td>\n",
       "      <td>...</td>\n",
       "      <td>...</td>\n",
       "      <td>...</td>\n",
       "      <td>...</td>\n",
       "      <td>...</td>\n",
       "      <td>...</td>\n",
       "      <td>...</td>\n",
       "      <td>...</td>\n",
       "      <td>...</td>\n",
       "      <td>...</td>\n",
       "      <td>...</td>\n",
       "      <td>...</td>\n",
       "    </tr>\n",
       "    <tr>\n",
       "      <th>128971</th>\n",
       "      <td>False</td>\n",
       "      <td>False</td>\n",
       "      <td>False</td>\n",
       "      <td>False</td>\n",
       "      <td>False</td>\n",
       "      <td>False</td>\n",
       "      <td>False</td>\n",
       "      <td>False</td>\n",
       "      <td>False</td>\n",
       "      <td>False</td>\n",
       "      <td>False</td>\n",
       "      <td>False</td>\n",
       "      <td>False</td>\n",
       "      <td>False</td>\n",
       "      <td>False</td>\n",
       "      <td>False</td>\n",
       "      <td>False</td>\n",
       "      <td>False</td>\n",
       "      <td>True</td>\n",
       "    </tr>\n",
       "    <tr>\n",
       "      <th>128972</th>\n",
       "      <td>False</td>\n",
       "      <td>False</td>\n",
       "      <td>False</td>\n",
       "      <td>False</td>\n",
       "      <td>False</td>\n",
       "      <td>False</td>\n",
       "      <td>False</td>\n",
       "      <td>False</td>\n",
       "      <td>False</td>\n",
       "      <td>False</td>\n",
       "      <td>False</td>\n",
       "      <td>False</td>\n",
       "      <td>False</td>\n",
       "      <td>False</td>\n",
       "      <td>False</td>\n",
       "      <td>False</td>\n",
       "      <td>False</td>\n",
       "      <td>False</td>\n",
       "      <td>True</td>\n",
       "    </tr>\n",
       "    <tr>\n",
       "      <th>128973</th>\n",
       "      <td>False</td>\n",
       "      <td>False</td>\n",
       "      <td>False</td>\n",
       "      <td>False</td>\n",
       "      <td>False</td>\n",
       "      <td>False</td>\n",
       "      <td>False</td>\n",
       "      <td>False</td>\n",
       "      <td>False</td>\n",
       "      <td>False</td>\n",
       "      <td>False</td>\n",
       "      <td>False</td>\n",
       "      <td>False</td>\n",
       "      <td>False</td>\n",
       "      <td>False</td>\n",
       "      <td>False</td>\n",
       "      <td>False</td>\n",
       "      <td>False</td>\n",
       "      <td>True</td>\n",
       "    </tr>\n",
       "    <tr>\n",
       "      <th>128974</th>\n",
       "      <td>False</td>\n",
       "      <td>False</td>\n",
       "      <td>False</td>\n",
       "      <td>False</td>\n",
       "      <td>False</td>\n",
       "      <td>False</td>\n",
       "      <td>False</td>\n",
       "      <td>False</td>\n",
       "      <td>False</td>\n",
       "      <td>False</td>\n",
       "      <td>False</td>\n",
       "      <td>False</td>\n",
       "      <td>False</td>\n",
       "      <td>False</td>\n",
       "      <td>False</td>\n",
       "      <td>False</td>\n",
       "      <td>False</td>\n",
       "      <td>False</td>\n",
       "      <td>True</td>\n",
       "    </tr>\n",
       "    <tr>\n",
       "      <th>128975</th>\n",
       "      <td>False</td>\n",
       "      <td>False</td>\n",
       "      <td>False</td>\n",
       "      <td>False</td>\n",
       "      <td>False</td>\n",
       "      <td>False</td>\n",
       "      <td>False</td>\n",
       "      <td>False</td>\n",
       "      <td>False</td>\n",
       "      <td>False</td>\n",
       "      <td>False</td>\n",
       "      <td>False</td>\n",
       "      <td>False</td>\n",
       "      <td>False</td>\n",
       "      <td>False</td>\n",
       "      <td>False</td>\n",
       "      <td>False</td>\n",
       "      <td>False</td>\n",
       "      <td>True</td>\n",
       "    </tr>\n",
       "  </tbody>\n",
       "</table>\n",
       "<p>128976 rows × 19 columns</p>\n",
       "</div>"
      ],
      "text/plain": [
       "        Index  Order ID   Date  Status  Fulfilment  Sales Channel  \\\n",
       "0       False     False  False   False       False          False   \n",
       "1       False     False  False   False       False          False   \n",
       "2       False     False  False   False       False          False   \n",
       "3       False     False  False   False       False          False   \n",
       "4       False     False  False   False       False          False   \n",
       "...       ...       ...    ...     ...         ...            ...   \n",
       "128971  False     False  False   False       False          False   \n",
       "128972  False     False  False   False       False          False   \n",
       "128973  False     False  False   False       False          False   \n",
       "128974  False     False  False   False       False          False   \n",
       "128975  False     False  False   False       False          False   \n",
       "\n",
       "        Ship-Service-Level  Category   Size  Courier Status    Qty  Currency  \\\n",
       "0                    False     False  False           False  False     False   \n",
       "1                    False     False  False           False  False     False   \n",
       "2                    False     False  False           False  False     False   \n",
       "3                    False     False  False           False  False     False   \n",
       "4                    False     False  False           False  False     False   \n",
       "...                    ...       ...    ...             ...    ...       ...   \n",
       "128971               False     False  False           False  False     False   \n",
       "128972               False     False  False           False  False     False   \n",
       "128973               False     False  False           False  False     False   \n",
       "128974               False     False  False           False  False     False   \n",
       "128975               False     False  False           False  False     False   \n",
       "\n",
       "        Amount  Ship-City  Ship-State  Ship-Postal-Code  Ship-Country    B2B  \\\n",
       "0        False      False       False             False         False  False   \n",
       "1        False      False       False             False         False  False   \n",
       "2        False      False       False             False         False  False   \n",
       "3        False      False       False             False         False  False   \n",
       "4        False      False       False             False         False  False   \n",
       "...        ...        ...         ...               ...           ...    ...   \n",
       "128971   False      False       False             False         False  False   \n",
       "128972   False      False       False             False         False  False   \n",
       "128973   False      False       False             False         False  False   \n",
       "128974   False      False       False             False         False  False   \n",
       "128975   False      False       False             False         False  False   \n",
       "\n",
       "        Fulfilled-by  \n",
       "0              False  \n",
       "1              False  \n",
       "2               True  \n",
       "3              False  \n",
       "4               True  \n",
       "...              ...  \n",
       "128971          True  \n",
       "128972          True  \n",
       "128973          True  \n",
       "128974          True  \n",
       "128975          True  \n",
       "\n",
       "[128976 rows x 19 columns]"
      ]
     },
     "execution_count": 6,
     "metadata": {},
     "output_type": "execute_result"
    }
   ],
   "source": [
    "pd.isnull(df)"
   ]
  },
  {
   "cell_type": "code",
   "execution_count": 7,
   "id": "851be7c3-4e86-4a21-aa28-f3befc55f836",
   "metadata": {},
   "outputs": [
    {
     "data": {
      "text/plain": [
       "Index                     0\n",
       "Order ID                  0\n",
       "Date                      0\n",
       "Status                    0\n",
       "Fulfilment                0\n",
       "Sales Channel             0\n",
       "Ship-Service-Level        0\n",
       "Category                  0\n",
       "Size                      0\n",
       "Courier Status            0\n",
       "Qty                       0\n",
       "Currency               7800\n",
       "Amount                 7800\n",
       "Ship-City                35\n",
       "Ship-State               35\n",
       "Ship-Postal-Code         35\n",
       "Ship-Country             35\n",
       "B2B                       0\n",
       "Fulfilled-by          89713\n",
       "dtype: int64"
      ]
     },
     "execution_count": 7,
     "metadata": {},
     "output_type": "execute_result"
    }
   ],
   "source": [
    "pd.isnull(df).sum()"
   ]
  },
  {
   "cell_type": "code",
   "execution_count": 8,
   "id": "3ba52fa9-b9e0-493b-bb26-7153c05559d8",
   "metadata": {},
   "outputs": [],
   "source": [
    "df.dropna(inplace=True)"
   ]
  },
  {
   "cell_type": "code",
   "execution_count": 9,
   "id": "94afc35a-1912-498b-975a-f263b924f2b1",
   "metadata": {},
   "outputs": [
    {
     "data": {
      "text/plain": [
       "(37514, 19)"
      ]
     },
     "execution_count": 9,
     "metadata": {},
     "output_type": "execute_result"
    }
   ],
   "source": [
    "df.shape"
   ]
  },
  {
   "cell_type": "code",
   "execution_count": 10,
   "id": "14ab0919-bd26-46e1-b4b7-0dbca555188a",
   "metadata": {},
   "outputs": [
    {
     "data": {
      "text/plain": [
       "Index(['Index', 'Order ID', 'Date', 'Status', 'Fulfilment', 'Sales Channel',\n",
       "       'Ship-Service-Level', 'Category', 'Size', 'Courier Status', 'Qty',\n",
       "       'Currency', 'Amount', 'Ship-City', 'Ship-State', 'Ship-Postal-Code',\n",
       "       'Ship-Country', 'B2B', 'Fulfilled-by'],\n",
       "      dtype='object')"
      ]
     },
     "execution_count": 10,
     "metadata": {},
     "output_type": "execute_result"
    }
   ],
   "source": [
    "df.columns"
   ]
  },
  {
   "cell_type": "code",
   "execution_count": 11,
   "id": "5b2203fc-e5a9-4dab-bb09-89afb6d0652a",
   "metadata": {},
   "outputs": [
    {
     "data": {
      "text/plain": [
       "dtype('int64')"
      ]
     },
     "execution_count": 11,
     "metadata": {},
     "output_type": "execute_result"
    }
   ],
   "source": [
    "df['Ship-Postal-Code']=df['Ship-Postal-Code'].astype('int')\n",
    "\n",
    "df['Ship-Postal-Code'].dtype"
   ]
  },
  {
   "cell_type": "code",
   "execution_count": 12,
   "id": "c99578c7-ed48-480a-b695-935e8446983e",
   "metadata": {},
   "outputs": [],
   "source": [
    "df.rename(columns={'Qty' : 'Quantity'}, inplace=True)"
   ]
  },
  {
   "cell_type": "code",
   "execution_count": 13,
   "id": "e8846a72-33c7-4efd-bd48-3c015fd772bd",
   "metadata": {},
   "outputs": [
    {
     "data": {
      "text/plain": [
       "Index(['Index', 'Order ID', 'Date', 'Status', 'Fulfilment', 'Sales Channel',\n",
       "       'Ship-Service-Level', 'Category', 'Size', 'Courier Status', 'Quantity',\n",
       "       'Currency', 'Amount', 'Ship-City', 'Ship-State', 'Ship-Postal-Code',\n",
       "       'Ship-Country', 'B2B', 'Fulfilled-by'],\n",
       "      dtype='object')"
      ]
     },
     "execution_count": 13,
     "metadata": {},
     "output_type": "execute_result"
    }
   ],
   "source": [
    "df.columns"
   ]
  },
  {
   "cell_type": "code",
   "execution_count": 14,
   "id": "c97e0006-432b-45bd-956a-044032496da1",
   "metadata": {},
   "outputs": [
    {
     "data": {
      "text/html": [
       "<div>\n",
       "<style scoped>\n",
       "    .dataframe tbody tr th:only-of-type {\n",
       "        vertical-align: middle;\n",
       "    }\n",
       "\n",
       "    .dataframe tbody tr th {\n",
       "        vertical-align: top;\n",
       "    }\n",
       "\n",
       "    .dataframe thead th {\n",
       "        text-align: right;\n",
       "    }\n",
       "</style>\n",
       "<table border=\"1\" class=\"dataframe\">\n",
       "  <thead>\n",
       "    <tr style=\"text-align: right;\">\n",
       "      <th></th>\n",
       "      <th>Index</th>\n",
       "      <th>Quantity</th>\n",
       "      <th>Amount</th>\n",
       "      <th>Ship-Postal-Code</th>\n",
       "    </tr>\n",
       "  </thead>\n",
       "  <tbody>\n",
       "    <tr>\n",
       "      <th>count</th>\n",
       "      <td>37514.000000</td>\n",
       "      <td>37514.000000</td>\n",
       "      <td>37514.000000</td>\n",
       "      <td>37514.000000</td>\n",
       "    </tr>\n",
       "    <tr>\n",
       "      <th>mean</th>\n",
       "      <td>60953.809858</td>\n",
       "      <td>0.867383</td>\n",
       "      <td>646.553960</td>\n",
       "      <td>463291.552754</td>\n",
       "    </tr>\n",
       "    <tr>\n",
       "      <th>std</th>\n",
       "      <td>36844.853039</td>\n",
       "      <td>0.354160</td>\n",
       "      <td>279.952414</td>\n",
       "      <td>194550.425637</td>\n",
       "    </tr>\n",
       "    <tr>\n",
       "      <th>min</th>\n",
       "      <td>0.000000</td>\n",
       "      <td>0.000000</td>\n",
       "      <td>0.000000</td>\n",
       "      <td>110001.000000</td>\n",
       "    </tr>\n",
       "    <tr>\n",
       "      <th>25%</th>\n",
       "      <td>27235.250000</td>\n",
       "      <td>1.000000</td>\n",
       "      <td>458.000000</td>\n",
       "      <td>370465.000000</td>\n",
       "    </tr>\n",
       "    <tr>\n",
       "      <th>50%</th>\n",
       "      <td>63470.500000</td>\n",
       "      <td>1.000000</td>\n",
       "      <td>629.000000</td>\n",
       "      <td>500019.000000</td>\n",
       "    </tr>\n",
       "    <tr>\n",
       "      <th>75%</th>\n",
       "      <td>91790.750000</td>\n",
       "      <td>1.000000</td>\n",
       "      <td>771.000000</td>\n",
       "      <td>600042.000000</td>\n",
       "    </tr>\n",
       "    <tr>\n",
       "      <th>max</th>\n",
       "      <td>128891.000000</td>\n",
       "      <td>5.000000</td>\n",
       "      <td>5495.000000</td>\n",
       "      <td>989898.000000</td>\n",
       "    </tr>\n",
       "  </tbody>\n",
       "</table>\n",
       "</div>"
      ],
      "text/plain": [
       "               Index      Quantity        Amount  Ship-Postal-Code\n",
       "count   37514.000000  37514.000000  37514.000000      37514.000000\n",
       "mean    60953.809858      0.867383    646.553960     463291.552754\n",
       "std     36844.853039      0.354160    279.952414     194550.425637\n",
       "min         0.000000      0.000000      0.000000     110001.000000\n",
       "25%     27235.250000      1.000000    458.000000     370465.000000\n",
       "50%     63470.500000      1.000000    629.000000     500019.000000\n",
       "75%     91790.750000      1.000000    771.000000     600042.000000\n",
       "max    128891.000000      5.000000   5495.000000     989898.000000"
      ]
     },
     "execution_count": 14,
     "metadata": {},
     "output_type": "execute_result"
    }
   ],
   "source": [
    "df.describe()"
   ]
  },
  {
   "cell_type": "code",
   "execution_count": 15,
   "id": "4078e7cb-2039-47f7-bb3a-ba172d9c67e0",
   "metadata": {},
   "outputs": [
    {
     "data": {
      "text/html": [
       "<div>\n",
       "<style scoped>\n",
       "    .dataframe tbody tr th:only-of-type {\n",
       "        vertical-align: middle;\n",
       "    }\n",
       "\n",
       "    .dataframe tbody tr th {\n",
       "        vertical-align: top;\n",
       "    }\n",
       "\n",
       "    .dataframe thead th {\n",
       "        text-align: right;\n",
       "    }\n",
       "</style>\n",
       "<table border=\"1\" class=\"dataframe\">\n",
       "  <thead>\n",
       "    <tr style=\"text-align: right;\">\n",
       "      <th></th>\n",
       "      <th>Order ID</th>\n",
       "      <th>Date</th>\n",
       "      <th>Status</th>\n",
       "      <th>Fulfilment</th>\n",
       "      <th>Sales Channel</th>\n",
       "      <th>Ship-Service-Level</th>\n",
       "      <th>Category</th>\n",
       "      <th>Size</th>\n",
       "      <th>Courier Status</th>\n",
       "      <th>Currency</th>\n",
       "      <th>Ship-City</th>\n",
       "      <th>Ship-State</th>\n",
       "      <th>Ship-Country</th>\n",
       "      <th>Fulfilled-by</th>\n",
       "    </tr>\n",
       "  </thead>\n",
       "  <tbody>\n",
       "    <tr>\n",
       "      <th>count</th>\n",
       "      <td>37514</td>\n",
       "      <td>37514</td>\n",
       "      <td>37514</td>\n",
       "      <td>37514</td>\n",
       "      <td>37514</td>\n",
       "      <td>37514</td>\n",
       "      <td>37514</td>\n",
       "      <td>37514</td>\n",
       "      <td>37514</td>\n",
       "      <td>37514</td>\n",
       "      <td>37514</td>\n",
       "      <td>37514</td>\n",
       "      <td>37514</td>\n",
       "      <td>37514</td>\n",
       "    </tr>\n",
       "    <tr>\n",
       "      <th>unique</th>\n",
       "      <td>34664</td>\n",
       "      <td>91</td>\n",
       "      <td>11</td>\n",
       "      <td>1</td>\n",
       "      <td>1</td>\n",
       "      <td>1</td>\n",
       "      <td>8</td>\n",
       "      <td>11</td>\n",
       "      <td>3</td>\n",
       "      <td>1</td>\n",
       "      <td>4698</td>\n",
       "      <td>58</td>\n",
       "      <td>1</td>\n",
       "      <td>1</td>\n",
       "    </tr>\n",
       "    <tr>\n",
       "      <th>top</th>\n",
       "      <td>171-5057375-2831560</td>\n",
       "      <td>04-25-22</td>\n",
       "      <td>Shipped - Delivered to Buyer</td>\n",
       "      <td>Merchant</td>\n",
       "      <td>Amazon.in</td>\n",
       "      <td>Standard</td>\n",
       "      <td>T-shirt</td>\n",
       "      <td>M</td>\n",
       "      <td>Shipped</td>\n",
       "      <td>INR</td>\n",
       "      <td>BENGALURU</td>\n",
       "      <td>MAHARASHTRA</td>\n",
       "      <td>IN</td>\n",
       "      <td>Easy Ship</td>\n",
       "    </tr>\n",
       "    <tr>\n",
       "      <th>freq</th>\n",
       "      <td>12</td>\n",
       "      <td>697</td>\n",
       "      <td>28741</td>\n",
       "      <td>37514</td>\n",
       "      <td>37514</td>\n",
       "      <td>37514</td>\n",
       "      <td>14062</td>\n",
       "      <td>6806</td>\n",
       "      <td>31859</td>\n",
       "      <td>37514</td>\n",
       "      <td>2839</td>\n",
       "      <td>6236</td>\n",
       "      <td>37514</td>\n",
       "      <td>37514</td>\n",
       "    </tr>\n",
       "  </tbody>\n",
       "</table>\n",
       "</div>"
      ],
      "text/plain": [
       "                   Order ID      Date                        Status  \\\n",
       "count                 37514     37514                         37514   \n",
       "unique                34664        91                            11   \n",
       "top     171-5057375-2831560  04-25-22  Shipped - Delivered to Buyer   \n",
       "freq                     12       697                         28741   \n",
       "\n",
       "       Fulfilment Sales Channel Ship-Service-Level Category   Size  \\\n",
       "count       37514         37514              37514    37514  37514   \n",
       "unique          1             1                  1        8     11   \n",
       "top      Merchant     Amazon.in           Standard  T-shirt      M   \n",
       "freq        37514         37514              37514    14062   6806   \n",
       "\n",
       "       Courier Status Currency  Ship-City   Ship-State Ship-Country  \\\n",
       "count           37514    37514      37514        37514        37514   \n",
       "unique              3        1       4698           58            1   \n",
       "top           Shipped      INR  BENGALURU  MAHARASHTRA           IN   \n",
       "freq            31859    37514       2839         6236        37514   \n",
       "\n",
       "       Fulfilled-by  \n",
       "count         37514  \n",
       "unique            1  \n",
       "top       Easy Ship  \n",
       "freq          37514  "
      ]
     },
     "execution_count": 15,
     "metadata": {},
     "output_type": "execute_result"
    }
   ],
   "source": [
    "df.describe(include='object')"
   ]
  },
  {
   "cell_type": "code",
   "execution_count": 16,
   "id": "7d364b0d-0da1-4c5c-83a3-f08de294b466",
   "metadata": {},
   "outputs": [
    {
     "data": {
      "text/html": [
       "<div>\n",
       "<style scoped>\n",
       "    .dataframe tbody tr th:only-of-type {\n",
       "        vertical-align: middle;\n",
       "    }\n",
       "\n",
       "    .dataframe tbody tr th {\n",
       "        vertical-align: top;\n",
       "    }\n",
       "\n",
       "    .dataframe thead th {\n",
       "        text-align: right;\n",
       "    }\n",
       "</style>\n",
       "<table border=\"1\" class=\"dataframe\">\n",
       "  <thead>\n",
       "    <tr style=\"text-align: right;\">\n",
       "      <th></th>\n",
       "      <th>Quantity</th>\n",
       "      <th>Amount</th>\n",
       "    </tr>\n",
       "  </thead>\n",
       "  <tbody>\n",
       "    <tr>\n",
       "      <th>count</th>\n",
       "      <td>37514.000000</td>\n",
       "      <td>37514.000000</td>\n",
       "    </tr>\n",
       "    <tr>\n",
       "      <th>mean</th>\n",
       "      <td>0.867383</td>\n",
       "      <td>646.553960</td>\n",
       "    </tr>\n",
       "    <tr>\n",
       "      <th>std</th>\n",
       "      <td>0.354160</td>\n",
       "      <td>279.952414</td>\n",
       "    </tr>\n",
       "    <tr>\n",
       "      <th>min</th>\n",
       "      <td>0.000000</td>\n",
       "      <td>0.000000</td>\n",
       "    </tr>\n",
       "    <tr>\n",
       "      <th>25%</th>\n",
       "      <td>1.000000</td>\n",
       "      <td>458.000000</td>\n",
       "    </tr>\n",
       "    <tr>\n",
       "      <th>50%</th>\n",
       "      <td>1.000000</td>\n",
       "      <td>629.000000</td>\n",
       "    </tr>\n",
       "    <tr>\n",
       "      <th>75%</th>\n",
       "      <td>1.000000</td>\n",
       "      <td>771.000000</td>\n",
       "    </tr>\n",
       "    <tr>\n",
       "      <th>max</th>\n",
       "      <td>5.000000</td>\n",
       "      <td>5495.000000</td>\n",
       "    </tr>\n",
       "  </tbody>\n",
       "</table>\n",
       "</div>"
      ],
      "text/plain": [
       "           Quantity        Amount\n",
       "count  37514.000000  37514.000000\n",
       "mean       0.867383    646.553960\n",
       "std        0.354160    279.952414\n",
       "min        0.000000      0.000000\n",
       "25%        1.000000    458.000000\n",
       "50%        1.000000    629.000000\n",
       "75%        1.000000    771.000000\n",
       "max        5.000000   5495.000000"
      ]
     },
     "execution_count": 16,
     "metadata": {},
     "output_type": "execute_result"
    }
   ],
   "source": [
    "df[['Quantity', 'Amount']].describe()"
   ]
  },
  {
   "cell_type": "code",
   "execution_count": null,
   "id": "6c828782-af11-45c2-832f-ac1c0ce0f38f",
   "metadata": {},
   "outputs": [],
   "source": []
  },
  {
   "cell_type": "markdown",
   "id": "2aaaf6fc-307f-486b-9f15-edc92223bc30",
   "metadata": {},
   "source": [
    "# Exploratory Data Analysis"
   ]
  },
  {
   "cell_type": "code",
   "execution_count": 17,
   "id": "80efbafc-b076-4906-a2b1-b3b3e964af84",
   "metadata": {},
   "outputs": [
    {
     "data": {
      "text/plain": [
       "Index(['Index', 'Order ID', 'Date', 'Status', 'Fulfilment', 'Sales Channel',\n",
       "       'Ship-Service-Level', 'Category', 'Size', 'Courier Status', 'Quantity',\n",
       "       'Currency', 'Amount', 'Ship-City', 'Ship-State', 'Ship-Postal-Code',\n",
       "       'Ship-Country', 'B2B', 'Fulfilled-by'],\n",
       "      dtype='object')"
      ]
     },
     "execution_count": 17,
     "metadata": {},
     "output_type": "execute_result"
    }
   ],
   "source": [
    "df.columns"
   ]
  },
  {
   "cell_type": "markdown",
   "id": "1b439ddf-49a6-448d-937b-365d4f6cfd96",
   "metadata": {},
   "source": [
    "## Size"
   ]
  },
  {
   "cell_type": "code",
   "execution_count": 18,
   "id": "9eb567dd-b200-49c6-ae66-0527368770e4",
   "metadata": {},
   "outputs": [
    {
     "data": {
      "image/png": "[encoded data removed]",
      "text/plain": [
       "<Figure size 1200x500 with 1 Axes>"
      ]
     },
     "metadata": {},
     "output_type": "display_data"
    }
   ],
   "source": [
    "plt.figure(figsize=(12,5))\n",
    "ax=sns.countplot(x='Size', data=df)\n",
    "for bars in ax.containers:\n",
    "    ax.bar_label(bars)"
   ]
  },
  {
   "cell_type": "markdown",
   "id": "d6a24c86-5c27-47cd-a06d-dc36e8e6961b",
   "metadata": {},
   "source": [
    "#### Note: From above graph, you can see that most of the people buys M-size."
   ]
  },
  {
   "cell_type": "code",
   "execution_count": null,
   "id": "beb5ef4f-8757-4b23-90cc-0aa53ea806c6",
   "metadata": {},
   "outputs": [],
   "source": []
  },
  {
   "cell_type": "markdown",
   "id": "186a27ba-c152-4d47-9b9f-e9e341664bc5",
   "metadata": {},
   "source": [
    "## Group By"
   ]
  },
  {
   "cell_type": "code",
   "execution_count": 19,
   "id": "d350d244-5210-4386-9eea-dd83c2eeb755",
   "metadata": {},
   "outputs": [
    {
     "data": {
      "text/html": [
       "<div>\n",
       "<style scoped>\n",
       "    .dataframe tbody tr th:only-of-type {\n",
       "        vertical-align: middle;\n",
       "    }\n",
       "\n",
       "    .dataframe tbody tr th {\n",
       "        vertical-align: top;\n",
       "    }\n",
       "\n",
       "    .dataframe thead th {\n",
       "        text-align: right;\n",
       "    }\n",
       "</style>\n",
       "<table border=\"1\" class=\"dataframe\">\n",
       "  <thead>\n",
       "    <tr style=\"text-align: right;\">\n",
       "      <th></th>\n",
       "      <th>Size</th>\n",
       "      <th>Quantity</th>\n",
       "    </tr>\n",
       "  </thead>\n",
       "  <tbody>\n",
       "    <tr>\n",
       "      <th>6</th>\n",
       "      <td>M</td>\n",
       "      <td>5905</td>\n",
       "    </tr>\n",
       "    <tr>\n",
       "      <th>5</th>\n",
       "      <td>L</td>\n",
       "      <td>5795</td>\n",
       "    </tr>\n",
       "    <tr>\n",
       "      <th>8</th>\n",
       "      <td>XL</td>\n",
       "      <td>5481</td>\n",
       "    </tr>\n",
       "    <tr>\n",
       "      <th>10</th>\n",
       "      <td>XXL</td>\n",
       "      <td>4465</td>\n",
       "    </tr>\n",
       "    <tr>\n",
       "      <th>0</th>\n",
       "      <td>3XL</td>\n",
       "      <td>3972</td>\n",
       "    </tr>\n",
       "    <tr>\n",
       "      <th>7</th>\n",
       "      <td>S</td>\n",
       "      <td>3896</td>\n",
       "    </tr>\n",
       "    <tr>\n",
       "      <th>9</th>\n",
       "      <td>XS</td>\n",
       "      <td>2191</td>\n",
       "    </tr>\n",
       "    <tr>\n",
       "      <th>4</th>\n",
       "      <td>Free</td>\n",
       "      <td>467</td>\n",
       "    </tr>\n",
       "    <tr>\n",
       "      <th>3</th>\n",
       "      <td>6XL</td>\n",
       "      <td>170</td>\n",
       "    </tr>\n",
       "    <tr>\n",
       "      <th>2</th>\n",
       "      <td>5XL</td>\n",
       "      <td>104</td>\n",
       "    </tr>\n",
       "    <tr>\n",
       "      <th>1</th>\n",
       "      <td>4XL</td>\n",
       "      <td>93</td>\n",
       "    </tr>\n",
       "  </tbody>\n",
       "</table>\n",
       "</div>"
      ],
      "text/plain": [
       "    Size  Quantity\n",
       "6      M      5905\n",
       "5      L      5795\n",
       "8     XL      5481\n",
       "10   XXL      4465\n",
       "0    3XL      3972\n",
       "7      S      3896\n",
       "9     XS      2191\n",
       "4   Free       467\n",
       "3    6XL       170\n",
       "2    5XL       104\n",
       "1    4XL        93"
      ]
     },
     "execution_count": 19,
     "metadata": {},
     "output_type": "execute_result"
    }
   ],
   "source": [
    "df.groupby(['Size'], as_index=False)['Quantity'].sum().sort_values(by='Quantity', ascending=False)"
   ]
  },
  {
   "cell_type": "code",
   "execution_count": 20,
   "id": "861b6159-ae6a-4613-a1b8-f7042903010a",
   "metadata": {},
   "outputs": [
    {
     "data": {
      "text/plain": [
       "<Axes: xlabel='Size', ylabel='Quantity'>"
      ]
     },
     "execution_count": 20,
     "metadata": {},
     "output_type": "execute_result"
    },
    {
     "data": {
      "image/png": "[encoded data removed]",
      "text/plain": [
       "<Figure size 1200x500 with 1 Axes>"
      ]
     },
     "metadata": {},
     "output_type": "display_data"
    }
   ],
   "source": [
    "plt.figure(figsize=(12,5))\n",
    "S_Quantity=df.groupby(['Size'], as_index=False)['Quantity'].sum().sort_values(by='Quantity', ascending=False)\n",
    "sns.barplot(x='Size', y='Quantity', data=S_Quantity)"
   ]
  },
  {
   "cell_type": "markdown",
   "id": "d738e37c-d71f-4e38-8754-88892b2cda57",
   "metadata": {},
   "source": [
    "## Courier Status"
   ]
  },
  {
   "cell_type": "code",
   "execution_count": 21,
   "id": "ff127dc6-6da2-4c87-b711-5432a5e211d8",
   "metadata": {},
   "outputs": [
    {
     "data": {
      "image/png": "[encoded data removed]",
      "text/plain": [
       "<Figure size 1200x500 with 1 Axes>"
      ]
     },
     "metadata": {},
     "output_type": "display_data"
    }
   ],
   "source": [
    "plt.figure(figsize=(12,5))\n",
    "ax=sns.countplot(x='Courier Status', data=df, hue='Status')\n",
    "plt.show()"
   ]
  },
  {
   "cell_type": "markdown",
   "id": "99af67cc-dfd1-4501-87f3-aaef8f235bd4",
   "metadata": {},
   "source": [
    "### Histogram"
   ]
  },
  {
   "cell_type": "code",
   "execution_count": 22,
   "id": "fbfd095c-806d-423d-a37e-51afcd16e34c",
   "metadata": {},
   "outputs": [
    {
     "data": {
      "text/plain": [
       "<Axes: >"
      ]
     },
     "execution_count": 22,
     "metadata": {},
     "output_type": "execute_result"
    },
    {
     "data": {
      "image/png": "[encoded data removed]",
      "text/plain": [
       "<Figure size 1200x500 with 1 Axes>"
      ]
     },
     "metadata": {},
     "output_type": "display_data"
    }
   ],
   "source": [
    "plt.figure(figsize=(12,5))\n",
    "df['Size'].hist()"
   ]
  },
  {
   "cell_type": "code",
   "execution_count": 23,
   "id": "610c4e7b-31ec-4e8d-ad7f-63e58c101eed",
   "metadata": {},
   "outputs": [
    {
     "name": "stdout",
     "output_type": "stream",
     "text": [
      "<class 'pandas.core.frame.DataFrame'>\n",
      "Index: 37514 entries, 0 to 128892\n",
      "Data columns (total 19 columns):\n",
      " #   Column              Non-Null Count  Dtype  \n",
      "---  ------              --------------  -----  \n",
      " 0   Index               37514 non-null  int64  \n",
      " 1   Order ID            37514 non-null  object \n",
      " 2   Date                37514 non-null  object \n",
      " 3   Status              37514 non-null  object \n",
      " 4   Fulfilment          37514 non-null  object \n",
      " 5   Sales Channel       37514 non-null  object \n",
      " 6   Ship-Service-Level  37514 non-null  object \n",
      " 7   Category            37514 non-null  object \n",
      " 8   Size                37514 non-null  object \n",
      " 9   Courier Status      37514 non-null  object \n",
      " 10  Quantity            37514 non-null  int64  \n",
      " 11  Currency            37514 non-null  object \n",
      " 12  Amount              37514 non-null  float64\n",
      " 13  Ship-City           37514 non-null  object \n",
      " 14  Ship-State          37514 non-null  object \n",
      " 15  Ship-Postal-Code    37514 non-null  int64  \n",
      " 16  Ship-Country        37514 non-null  object \n",
      " 17  B2B                 37514 non-null  bool   \n",
      " 18  Fulfilled-by        37514 non-null  object \n",
      "dtypes: bool(1), float64(1), int64(3), object(14)\n",
      "memory usage: 5.5+ MB\n"
     ]
    }
   ],
   "source": [
    "df.info()"
   ]
  },
  {
   "cell_type": "code",
   "execution_count": 24,
   "id": "367f6876-8095-4350-9dae-8268f228d76e",
   "metadata": {},
   "outputs": [
    {
     "data": {
      "image/png": "[encoded data removed]",
      "text/plain": [
       "<Figure size 1000x500 with 1 Axes>"
      ]
     },
     "metadata": {},
     "output_type": "display_data"
    }
   ],
   "source": [
    "df['Category']=df['Category'].astype(str)\n",
    "column_data= df['Category']\n",
    "plt.figure(figsize=(10,5))\n",
    "plt.hist(column_data, bins=15, edgecolor='Black')\n",
    "plt.xticks(rotation=90)\n",
    "plt.show()"
   ]
  },
  {
   "cell_type": "markdown",
   "id": "dc8ac7f7-695a-49b3-a83d-d5712d17a376",
   "metadata": {},
   "source": [
    "### Pie Chart"
   ]
  },
  {
   "cell_type": "code",
   "execution_count": 25,
   "id": "818dda2a-d4f5-46e7-8068-225099f8bc12",
   "metadata": {},
   "outputs": [
    {
     "data": {
      "image/png": "[encoded data removed]",
      "text/plain": [
       "<Figure size 640x480 with 1 Axes>"
      ]
     },
     "metadata": {},
     "output_type": "display_data"
    }
   ],
   "source": [
    "B2B_Check=df['B2B'].value_counts()\n",
    "\n",
    "plt.pie(B2B_Check, labels=B2B_Check.index, autopct= '%1.1f%%')\n",
    "\n",
    "plt.show()"
   ]
  },
  {
   "cell_type": "markdown",
   "id": "a06ab8e9-6700-4c5d-99c2-3862052d8432",
   "metadata": {},
   "source": [
    "### Scatter Plot"
   ]
  },
  {
   "cell_type": "code",
   "execution_count": 26,
   "id": "a2995f25-a118-4014-9dac-214749cf966e",
   "metadata": {},
   "outputs": [
    {
     "data": {
      "image/png": "[encoded data removed]",
      "text/plain": [
       "<Figure size 1000x500 with 1 Axes>"
      ]
     },
     "metadata": {},
     "output_type": "display_data"
    }
   ],
   "source": [
    "x_data=df['Category']\n",
    "y_data=df['Size']\n",
    "\n",
    "plt.figure(figsize=(10,5))\n",
    "plt.scatter(x_data, y_data)\n",
    "plt.xlabel('Category')\n",
    "plt.ylabel('Size')\n",
    "plt.title('Scatter Plot')\n",
    "plt.show()"
   ]
  },
  {
   "cell_type": "code",
   "execution_count": 27,
   "id": "ee8c4bd2-7936-498b-b14e-1d835690ce2d",
   "metadata": {},
   "outputs": [
    {
     "data": {
      "text/plain": [
       "<function matplotlib.pyplot.show(close=None, block=None)>"
      ]
     },
     "execution_count": 27,
     "metadata": {},
     "output_type": "execute_result"
    },
    {
     "data": {
      "image/png": "[encoded data removed]",
      "text/plain": [
       "<Figure size 1200x600 with 1 Axes>"
      ]
     },
     "metadata": {},
     "output_type": "display_data"
    }
   ],
   "source": [
    "top_10_state=df['Ship-State'].value_counts().head(10)\n",
    "\n",
    "plt.figure(figsize=(12,6))\n",
    "sns.countplot(data=df[df['Ship-State'].isin(top_10_state.index)], x='Ship-State')\n",
    "plt.title('Distribution of States')\n",
    "plt.xticks(rotation=45)\n",
    "plt.show"
   ]
  },
  {
   "cell_type": "markdown",
   "id": "0228603b-ba3e-4262-ae53-3f1b6f1db2d0",
   "metadata": {},
   "source": [
    "# Conclusion"
   ]
  },
  {
   "cell_type": "markdown",
   "id": "e074f844-9052-4828-97ff-36fe781c760d",
   "metadata": {},
   "source": [
    "#### The data analysis reveals that the business has a significant customer base in Maharashtra state, mainly serves retailers, fulfills orders through Amazon, expences high demand for T-shirts, and sees M-size as the preferred choice among buyers."
   ]
  },
  {
   "cell_type": "markdown",
   "id": "98b1b281-0c6e-4cc4-8c83-dfe257cd490a",
   "metadata": {},
   "source": []
  },
  {
   "cell_type": "code",
   "execution_count": null,
   "id": "a4aaa1b6-3280-47df-b5de-206a0aa0984c",
   "metadata": {},
   "outputs": [],
   "source": []
  },
  {
   "cell_type": "code",
   "execution_count": null,
   "id": "a0a445b4-07b4-4d76-8315-c8920df13fdb",
   "metadata": {},
   "outputs": [],
   "source": []
  },
  {
   "cell_type": "code",
   "execution_count": null,
   "id": "45dd3789-07c3-4228-9a33-90a5068c93fe",
   "metadata": {},
   "outputs": [],
   "source": []
  }
 ],
 "metadata": {
  "kernelspec": {
   "display_name": "Python 3 (ipykernel)",
   "language": "python",
   "name": "python3"
  },
  "language_info": {
   "codemirror_mode": {
    "name": "ipython",
    "version": 3
   },
   "file_extension": ".py",
   "mimetype": "text/x-python",
   "name": "python",
   "nbconvert_exporter": "python",
   "pygments_lexer": "ipython3",
   "version": "3.12.4"
  }
 },
 "nbformat": 4,
 "nbformat_minor": 5
}
